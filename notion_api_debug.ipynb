{
 "cells": [
  {
   "cell_type": "code",
   "execution_count": null,
   "metadata": {},
   "outputs": [],
   "source": [
    "%load_ext autoreload\n",
    "%autoreload 2"
   ]
  },
  {
   "cell_type": "code",
   "execution_count": null,
   "metadata": {},
   "outputs": [],
   "source": [
    "import requests, json\n",
    "import os\n",
    "# Custom imports\n",
    "from src.utils import *"
   ]
  },
  {
   "attachments": {},
   "cell_type": "markdown",
   "metadata": {},
   "source": [
    "# Setting up the variables"
   ]
  },
  {
   "cell_type": "markdown",
   "metadata": {},
   "source": []
  },
  {
   "cell_type": "code",
   "execution_count": null,
   "metadata": {},
   "outputs": [],
   "source": [
    "token = os.environ[\"NOTION_TOKEN\"]\n",
    "databaseId = os.environ[\"NOTION_CONTENT_BOARD_DB_ID\"]\n",
    "update_DB_URL = f'https://api.notion.com/v1/databases/{databaseId}'\n",
    "\n",
    "headers = {\n",
    "    \"Authorization\": \"Bearer \" + token,\n",
    "    \"Content-Type\": \"application/json\",\n",
    "    \"Notion-Version\": \"2022-06-28\"}"
   ]
  },
  {
   "attachments": {},
   "cell_type": "markdown",
   "metadata": {},
   "source": [
    "## Get all the ideas from the Content Board"
   ]
  },
  {
   "cell_type": "code",
   "execution_count": null,
   "metadata": {},
   "outputs": [],
   "source": [
    "db_data = readDatabase(databaseId, headers)"
   ]
  },
  {
   "cell_type": "code",
   "execution_count": null,
   "metadata": {},
   "outputs": [],
   "source": [
    "db_data"
   ]
  },
  {
   "cell_type": "code",
   "execution_count": null,
   "metadata": {},
   "outputs": [],
   "source": [
    "content_status_tags = [\"Idea\", \"Drafts\", \"Next Improvements\", \"Edit\", \"Publish\"]\n",
    "for tag in content_status_tags:\n",
    "    print(f\"Tag: {tag} - \", get_idea_from_content_board(db_data, content_board_tag=tag))"
   ]
  },
  {
   "attachments": {},
   "cell_type": "markdown",
   "metadata": {},
   "source": [
    "## Updating a Content Status Tag"
   ]
  },
  {
   "cell_type": "code",
   "execution_count": null,
   "metadata": {},
   "outputs": [],
   "source": [
    "page_title = \"Article - 10 Tips for Better ML Dev\"\n",
    "property_name = \"Status\"\n",
    "property_type = \"select\"\n",
    "property_dest_name = \"Drafts\"\n",
    "db_data = readDatabase(databaseId, headers)\n",
    "page_content_idx = get_content_title_idx(db_data, page_title)\n",
    "page_data = db_data[\"results\"][page_content_idx]\n",
    "pageId = page_data[\"id\"]\n",
    "update_PAGE_URL = f'https://api.notion.com/v1/pages/{pageId}'\n",
    "print(f\"Page ID: {pageId}\")\n",
    "print(\"Removing meta keys (last edit time, create by, etc...)\")\n",
    "page_data = remove_page_metadata(page_data, keys_to_remove=[\"last_edited_time\",\"created_time\",\"last_edited_by\",\"created_by\"])\n",
    "page_data = remove_property_metadata(page_data, property_name, property_type, keys_to_remove=[\"id\", \"color\"])\n",
    "print(f\"Updating the {property_name} option...\")\n",
    "update_page_property(page_data,pageId, headers, property_name, property_type, property_dest_name)"
   ]
  },
  {
   "attachments": {},
   "cell_type": "markdown",
   "metadata": {},
   "source": [
    "## Reading Metadata on Notion Page"
   ]
  },
  {
   "cell_type": "code",
   "execution_count": null,
   "metadata": {},
   "outputs": [],
   "source": [
    "pageId = \"88d4370d8f40431dbfa03c938788df80\"\n",
    "page_title = \"Python Code\"\n",
    "page_data = readPage(pageId, headers)\n",
    "print(f\"Page ID: {pageId}\")\n",
    "print(\"Removing meta keys (last edit time, create by, etc...)\")\n",
    "page_data\n",
    "# page_data = remove_page_metadata(page_data, keys_to_remove=[\"last_edited_time\",\"created_time\",\"last_edited_by\",\"created_by\"])\n",
    "# page_data = remove_property_metadata(page_data, property_name, property_type, keys_to_remove=[\"id\", \"color\"])\n",
    "# print(f\"Updating the {property_name} option...\")\n",
    "# update_page_property(page_data,pageId, headers, property_name, property_type, property_dest_name)"
   ]
  },
  {
   "attachments": {},
   "cell_type": "markdown",
   "metadata": {},
   "source": [
    "## Get Block Content (code)"
   ]
  },
  {
   "cell_type": "code",
   "execution_count": null,
   "metadata": {},
   "outputs": [],
   "source": [
    "def readBlock(pageId, headers):\n",
    "    readUrl = f\"https://api.notion.com/v1/blocks/{pageId}/children\"\n",
    "\n",
    "    res = requests.request(\"GET\", readUrl, headers=headers)\n",
    "    data = res.json()\n",
    "    print(res.status_code) \n",
    "    \n",
    "    return data\n",
    "\n",
    "\n",
    "#pageId = \"88d4370d8f40431dbfa03c938788df80\"\n",
    "blockId = \"88d4370d8f40431dbfa03c938788df80#ae37ddbbbbb842cd8010b4bdf2fd47be\"\n",
    "page_title = \"Python Code\"\n",
    "block_data = readBlock(pageId, headers)\n",
    "block_data"
   ]
  },
  {
   "cell_type": "code",
   "execution_count": null,
   "metadata": {},
   "outputs": [],
   "source": [
    "block_data.keys()"
   ]
  },
  {
   "cell_type": "code",
   "execution_count": null,
   "metadata": {},
   "outputs": [],
   "source": [
    "block_data[\"results\"][0][\"code\"][\"rich_text\"][0][\"plain_text\"]"
   ]
  },
  {
   "cell_type": "markdown",
   "metadata": {},
   "source": [
    "## Add Block Content"
   ]
  },
  {
   "cell_type": "code",
   "execution_count": null,
   "metadata": {},
   "outputs": [],
   "source": [
    "# curl -X PATCH https://api.notion.com/v1/blocks/16d8004e-5f6a-42a6-9811-51c22ddada12/children \\\n",
    "#   -H 'Authorization: Bearer '\"$NOTION_API_KEY\"'' \\\n",
    "#   -H \"Content-Type: application/json\" \\\n",
    "#   -H \"Notion-Version: 2022-06-28\" \\\n",
    "#   --data '{\n",
    "#     \"children\": [\n",
    "#     {\n",
    "#       \"object\": \"block\",\n",
    "#       \"type\": \"paragraph\",\n",
    "#       \"paragraph\": {\n",
    "#         \"text\": [{ \"type\": \"text\", \"text\": { \"content\": \"– Notion API Team\", \"link\": { \"type\": \"url\", \"url\": \"https://twitter.com/NotionAPI\" } } }]\n",
    "#       }\n",
    "#     }\n",
    "#   ]\n",
    "# }'    \n",
    "\n",
    "def add_content_to_page(pageId, block_content, headers):\n",
    "      blockURL = f\"https://api.notion.com/v1/blocks/{pageId}/children\"\n",
    "      res = requests.request(\"PATCH\", blockURL, headers=headers, data=json.dumps(block_content))\n",
    "      print(res.status_code)\n",
    "      print(res.text)\n",
    "      "
   ]
  },
  {
   "cell_type": "code",
   "execution_count": null,
   "metadata": {},
   "outputs": [],
   "source": [
    "with open(\"./notion_py_cli.py\", \"r\") as file:\n",
    "    py_script_content = file.read()\n",
    "\n",
    "pageId = \"\"\n",
    "page_title = \"Workflow Test Page\"\n",
    "page_data = readPage(pageId, headers)\n",
    "page_data"
   ]
  },
  {
   "cell_type": "code",
   "execution_count": null,
   "metadata": {},
   "outputs": [],
   "source": [
    "block_content = {\n",
    "  \"children\": [\n",
    "    {\"type\": \"code\",\n",
    "      \"code\": {\"language\": \"python\",\"rich_text\": \n",
    "        [{\"plain_text\": \"\", \"text\": {\"content\": f\"{py_script_content}\"}}]\n",
    "    }\n",
    "      }\n",
    "  ]\n",
    "}\n",
    "add_content_to_page(pageId, block_content, headers)"
   ]
  },
  {
   "cell_type": "code",
   "execution_count": null,
   "metadata": {},
   "outputs": [],
   "source": []
  },
  {
   "attachments": {},
   "cell_type": "markdown",
   "metadata": {},
   "source": []
  }
 ],
 "metadata": {
  "kernelspec": {
   "display_name": "notion_py_api",
   "language": "python",
   "name": "python3"
  },
  "language_info": {
   "codemirror_mode": {
    "name": "ipython",
    "version": 3
   },
   "file_extension": ".py",
   "mimetype": "text/x-python",
   "name": "python",
   "nbconvert_exporter": "python",
   "pygments_lexer": "ipython3",
   "version": "3.10.9"
  },
  "vscode": {
   "interpreter": {
    "hash": "78608a7bf61d8aa645a6a034c16a11b39e84b551b825a1751939703e0f1992c4"
   }
  }
 },
 "nbformat": 4,
 "nbformat_minor": 2
}
