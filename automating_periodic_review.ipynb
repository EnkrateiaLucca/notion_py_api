{
 "cells": [
  {
   "cell_type": "code",
   "execution_count": null,
   "metadata": {},
   "outputs": [],
   "source": []
  }
 ],
 "metadata": {
  "kernelspec": {
   "display_name": "notion_py_api",
   "language": "python",
   "name": "python3"
  },
  "language_info": {
   "name": "python",
   "version": "3.10.9"
  },
  "orig_nbformat": 4,
  "vscode": {
   "interpreter": {
    "hash": "78608a7bf61d8aa645a6a034c16a11b39e84b551b825a1751939703e0f1992c4"
   }
  }
 },
 "nbformat": 4,
 "nbformat_minor": 2
}
