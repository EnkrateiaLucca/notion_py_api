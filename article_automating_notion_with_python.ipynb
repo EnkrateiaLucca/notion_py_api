{
 "cells": [
  {
   "cell_type": "markdown",
   "metadata": {},
   "source": [
    "Recently I have been working on integrating Notion with Python. I have been \n",
    "doing this as a toy project to work on my programming skills while\n",
    "also trying to get something useful out of it.\n",
    "\n",
    "***In this article, I will show you how to automate your todo lists in Notion using Python.***"
   ]
  },
  {
   "cell_type": "markdown",
   "metadata": {},
   "source": [
    "## Why Notion with Python?"
   ]
  },
  {
   "cell_type": "markdown",
   "metadata": {},
   "source": [
    "Honestly, there is no simple answer to this. In the main page of the [Notion API](https://developers.notion.com/reference/intro) they show you how to perform requests using the Javascript SDK and cURL. \n",
    "\n",
    "What I wanted to do, was to see if I could write something useful with Python just because its my main programming language.\n",
    "\n",
    "In addition to that, Notion is an extremely versatile and powerful tool for productivity, with which you can do pretty much anything you can think of productivity-wise. \n",
    "\n",
    "WIth this simple project I just wanted to have the ability to make updates to my Notion databases from the terminal using a simple command line tool, in order to speed up certain types of workflows. "
   ]
  },
  {
   "cell_type": "markdown",
   "metadata": {},
   "source": [
    "## Steps to Automate Todo Lists with Python and the Notion API\n",
    "\n",
    "\n",
    "Ok, now let's look at the steps to automate todo lists using Python. The goal will be to have the following capabilities:\n",
    "\n",
    "- Show the current todo list\n",
    "- Check and uncheck a task in a todo list database in Notion\n",
    "- Create tasks\n",
    "\n",
    "To do these we will do the following:\n",
    "1. Set up a new integration in Notion and generate an API key\n",
    "2. Create a database for the todo list and get its corresponding id\n",
    "3. Initialize the variables holding the API keys and relevant database URLs\n",
    "4. Write a function to read the database\n",
    "5. Write a function to list all the tasks present in that database\n",
    "6. Write a function to check and uncheck tasks in the todo list\n",
    "7. Write a function to add tasks to that database\n",
    "\n",
    "\n",
    "Ok, now let's get started!"
   ]
  },
  {
   "cell_type": "markdown",
   "metadata": {},
   "source": [
    "### 1. Set up a new integration in Notion and generate an API key\n",
    "\n",
    "To setup our integration we just have to headover to:\n",
    "https://www.notion.so/my-integrations\n",
    "\n",
    "and click on \"New Integration\", then copy the generated API token which we will use inside our Python script."
   ]
  },
  {
   "cell_type": "markdown",
   "metadata": {},
   "source": [
    "### 2. Create a database for the todo list and get its corresponding id\n",
    "\n",
    "To create a database we just open a page in our notion workspace and type in:\n",
    "\n",
    "```/database```\n",
    "\n",
    "which should trigger the functionality of database inline or database as a full page. Select the database as a full page and copy the following from that page's corresponding URL:\n",
    "\n",
    "```https://www.notion.so/<workspace_name>/<ID_TO_COPY>?v=<ANOTHER_BIG_NUMBER>```\n",
    "\n",
    "We should copy the id number that comes after the workspace name and before the \n",
    "`>?` symbols.\n"
   ]
  },
  {
   "cell_type": "markdown",
   "metadata": {},
   "source": [
    "### 3. Initialize the variables holding the API keys and relevant database URLs\n",
    "\n",
    "TO do this, we must first export the corresponding keys to our environment as to \n",
    "avoid having them publicly present inside our code, in Linux you can just edit your\n",
    "`~/.bashrc` folder and write 2 lines as the following:\n",
    "\n",
    "```\n",
    "export NOTION_TOKEN=\"notion integration api key\"\n",
    "export NOTION_TASK_DATABASE_ID=\"database id\"\n",
    "```\n",
    "\n",
    "Replace these values with the ones relevant to your project.\n",
    "\n",
    "Now, we can access these values from inside our Python script or jupyter notebook:"
   ]
  },
  {
   "cell_type": "code",
   "execution_count": 1,
   "metadata": {},
   "outputs": [],
   "source": [
    "import requests, json\n",
    "import os\n",
    "# Custom imports\n",
    "from src.utils import *\n",
    "\n",
    "token = os.environ[\"NOTION_TOKEN\"]\n",
    "databaseId = os.environ[\"NOTION_TASK_DATABASE_ID\"]\n",
    "update_DB_URL = f'https://api.notion.com/v1/databases/{databaseId}'\n",
    "\n",
    "headers = {\n",
    "    \"Authorization\": \"Bearer \" + token,\n",
    "    \"Content-Type\": \"application/json\",\n",
    "    \"Notion-Version\": \"2022-06-28\"}"
   ]
  },
  {
   "cell_type": "markdown",
   "metadata": {},
   "source": [
    "Here we are setting up the following:\n",
    "\n",
    "- `token` - NOTION api key we need to use the integration, \n",
    "- `databaseID` - The database ID to access our todo list database\n",
    "- `update_DB_URL` - The corresponding url to that database so we can send requests to update it or retrieve data from it.\n",
    "- `headers` - A dictionary to set up the authentication for sending requests to the Notion API."
   ]
  },
  {
   "cell_type": "markdown",
   "metadata": {},
   "source": [
    "### 4. Write a function to read the database"
   ]
  },
  {
   "cell_type": "code",
   "execution_count": 2,
   "metadata": {},
   "outputs": [],
   "source": [
    "def readDatabase(databaseId, headers):\n",
    "    readUrl = f\"https://api.notion.com/v1/databases/{databaseId}/query\"\n",
    "\n",
    "    res = requests.request(\"POST\", readUrl, headers=headers)\n",
    "    data = res.json()\n",
    "    print(res.status_code)\n",
    "\n",
    "    with open('./db.json', 'w', encoding='utf8') as f:\n",
    "        json.dump(data, f, ensure_ascii=False)\n",
    "    \n",
    "    return data"
   ]
  },
  {
   "cell_type": "markdown",
   "metadata": {},
   "source": [
    "\n",
    "Here we define a function called `readDatabase` which takes two parameters: `databaseId` and `headers`.\n",
    "\n",
    "We start by defining the URL to query the database:\n",
    "\n",
    "```readUrl = f\"https://api.notion.com/v1/databases/{databaseId}/query\"```\n",
    "\n",
    "which creates a URL to query the Notion API for a specific database ID passed as `databaseId`.\n",
    "\n",
    "Then, we send an HTTP POST request to the URL created in the previous line, with the headers passed as headers. The response is stored in the res variable. After that we extract the JSON data from the response and stores it in the data variable.\n",
    "\n",
    "\n",
    "```\n",
    "res = requests.request(\"POST\", readUrl, headers=headers)\n",
    "data = res.json()\n",
    "print(res.status_code)\n",
    "```\n",
    "\n",
    "We follow to create or open a `\"db.json\"` in the current directory in write mode. The with statement ensures that the file is properly closed when the block is exited. We write the JSON data (stored in the data variable) to the file opened. And finally, we return the extracted JSON data to the caller of the `readDatabase` function.\n",
    "\n",
    "```\n",
    "with open('./db.json', 'w', encoding='utf8') as f:\n",
    "    json.dump(data, f, ensure_ascii=False)\n",
    "\n",
    "return data\n",
    "```\n"
   ]
  },
  {
   "cell_type": "markdown",
   "metadata": {},
   "source": [
    "### 5. Write a function to list all the tasks present in that database"
   ]
  },
  {
   "cell_type": "code",
   "execution_count": 3,
   "metadata": {},
   "outputs": [],
   "source": [
    "def get_tasks_from_db(db_data):\n",
    "    \"\"\"\n",
    "    Gets a task from my task database.\n",
    "    \"\"\"\n",
    "    length_of_table = len(db_data[\"results\"])\n",
    "    content_list = []\n",
    "    for i in range(length_of_table):\n",
    "        if len(db_data[\"results\"][i][\"properties\"][\"Task\"][\"title\"])!=0:\n",
    "            task_name = db_data[\"results\"][i][\"properties\"][\"Task\"][\"title\"][0][\"plain_text\"]\n",
    "            print(f\"{i} - {task_name}\")"
   ]
  },
  {
   "cell_type": "markdown",
   "metadata": {},
   "source": [
    "The `get_tasks_from_db` function takes a database `db_data` as input and performs the following steps:\n",
    "\n",
    "- Calculates the number of tasks in the database.\n",
    "- Creates an empty list to store task names.\n",
    "- Loops through each task in the database, checking if it has a title.\n",
    "- Extracts the name of each task and prints its index and name to the console."
   ]
  },
  {
   "cell_type": "markdown",
   "metadata": {},
   "source": [
    "### 6. Write a function to check and uncheck tasks in the todo list"
   ]
  },
  {
   "cell_type": "code",
   "execution_count": 4,
   "metadata": {},
   "outputs": [],
   "source": [
    "def check_task(task_page_data, task_page_id, headers, check_status=True):\n",
    "    updateURL = f'https://api.notion.com/v1/pages/{task_page_id}'\n",
    "    task_page_data[\"properties\"][\"Check\"][\"checkbox\"]=check_status\n",
    "    task_name = task_page_data[\"properties\"][\"Task\"][\"title\"][0][\"plain_text\"]\n",
    "    updated_task_page = json.dumps(task_page_data)\n",
    "    res = requests.request(\"PATCH\", updateURL, headers=headers, data=updated_task_page)\n",
    "    #print(res.text)\n",
    "    print(f\"Task: {task_name} ✅\")"
   ]
  },
  {
   "cell_type": "markdown",
   "metadata": {},
   "source": [
    "We create a function called `check_task()` which updates the status of a specific task page in Notion's database. It takes four parameters: \n",
    "- `task_page_data`\n",
    "- `task_page_id`\n",
    "- `headers`\n",
    "- `check_status`. \n",
    " \n",
    "The function updates the \"Check\" property of the task page data with the value of check_status. \n",
    "The updated task page data is converted to a JSON string and sent to the Notion API using an HTTP PATCH request. Finally, a message is printed to the console indicating that the task has been checked."
   ]
  },
  {
   "cell_type": "markdown",
   "metadata": {},
   "source": [
    "## 7. Write a function to add tasks to that database"
   ]
  },
  {
   "cell_type": "code",
   "execution_count": 5,
   "metadata": {},
   "outputs": [],
   "source": [
    "def create_task(task_title, tasks_databaseId, headers):\n",
    "    update_DB_URL = f'https://api.notion.com/v1/databases/{tasks_databaseId}'\n",
    "    update_PAGE_URL = \"https://api.notion.com/v1/pages\"\n",
    "    # Define the properties of the new page\n",
    "    new_page = {\n",
    "        \"Task\": {\n",
    "            \"title\": [\n",
    "                {\n",
    "                    \"text\": {\n",
    "                        \"content\": f\"{task_title}\"\n",
    "                    }\n",
    "                }\n",
    "            ]\n",
    "        }\n",
    "    }\n",
    "\n",
    "    # Define the parent of the new page\n",
    "    parent = {\n",
    "        \"database_id\": tasks_databaseId\n",
    "    }\n",
    "\n",
    "    # Combine the new page properties and parent into a request body\n",
    "    data = {\n",
    "        \"parent\": parent,\n",
    "        \"properties\": new_page\n",
    "    }\n",
    "\n",
    "    # Send the request to create the new page\n",
    "    response = requests.post(update_PAGE_URL, headers=headers, data=json.dumps(data))\n",
    "\n",
    "    # Print the response content and status code\n",
    "    print(response.status_code)"
   ]
  },
  {
   "cell_type": "markdown",
   "metadata": {},
   "source": [
    "The function `create_task()` takes three parameters: \n",
    "- `task_title` - the title of the task being created\n",
    "- `tasks_databaseId` - the id of the tasks database\n",
    "- `headers`.  - the header for the authentication of the request\n",
    "\n",
    "It creates a URL to update the specified Notion database, sets the URL for creating a new page in Notion, creates a dictionary that represents the new page to be created in Notion, creates a dictionary that specifies the parent of the new page, combines the new page dictionary and parent dictionary into a single request body that will be sent to the Notion API to create the new page, then sends an HTTP POST request to the Notion API to create a new page with the specified title in the specified database, and prints the status code of the response received from the Notion API after creating the new page."
   ]
  },
  {
   "cell_type": "markdown",
   "metadata": {},
   "source": [
    "### Wrap Everything into a CLI tool\n",
    "\n",
    "Now that we have all the necessary ingredients, let's wrap this code into a neat cli tool to use it from the terminal:"
   ]
  },
  {
   "cell_type": "code",
   "execution_count": null,
   "metadata": {},
   "outputs": [],
   "source": [
    "import requests, json\n",
    "import os\n",
    "# Custom imports\n",
    "from src.utils import *\n",
    "import argparse\n",
    "\n",
    "token = os.environ[\"NOTION_TOKEN\"]\n",
    "tasks_databaseId = os.environ[\"NOTION_TASK_DATABASE_ID\"]\n",
    "update_DB_URL = f'https://api.notion.com/v1/databases/{tasks_databaseId}'\n",
    "\n",
    "headers = {\n",
    "    \"Authorization\": \"Bearer \" + token,\n",
    "    \"Content-Type\": \"application/json\",\n",
    "    \"Notion-Version\": \"2022-06-28\"}\n",
    "\n",
    "if __name__==\"__main__\":\n",
    "    parser = argparse.ArgumentParser()\n",
    "    parser.add_argument(\"--get\", type=str, default=\"\")\n",
    "    parser.add_argument(\"--check_task\", type=int, default=None)\n",
    "    parser.add_argument(\"--uncheck_task\", type=int, default=None)\n",
    "    parser.add_argument(\"--add_task\", type=str, default=None, \n",
    "                        help=\"Create a task in your task db.\")\n",
    "    args = parser.parse_args()\n",
    "    \n",
    "    if args.get==\"todos\":\n",
    "        db_data = readDatabase(tasks_databaseId, headers)\n",
    "        print(get_tasks_from_db(db_data))\n",
    "    \n",
    "    if args.check_task!=None:\n",
    "        task_num=args.check_task\n",
    "        task_status = True\n",
    "        page_data = get_page_in_database(tasks_databaseId, headers, task_num)\n",
    "        page_id = page_data[\"id\"]\n",
    "        check_task(page_data, page_id, headers, check_status=task_status)\n",
    "    \n",
    "    if args.uncheck_task!=None:\n",
    "        task_num=args.uncheck_task\n",
    "        task_status = False\n",
    "        page_data = get_page_in_database(tasks_databaseId, headers, task_num)\n",
    "        page_id = page_data[\"id\"]\n",
    "        check_task(page_data, page_id, headers, check_status=task_status)\n",
    "    \n",
    "    if args.add_task!=None:\n",
    "        task_title = args.add_task\n",
    "        create_task(task_title, tasks_databaseId, headers)\n",
    "        \n"
   ]
  },
  {
   "cell_type": "markdown",
   "metadata": {},
   "source": [
    "Here, we simply use Python's `argparse` module to wrap all the functions written into a cli tool that we can access from the terminal.\n",
    "\n",
    "---"
   ]
  },
  {
   "cell_type": "markdown",
   "metadata": {},
   "source": [
    "## Testing the Automation\n",
    "\n",
    "To finally test this automation, all we have to do is call the cli tool from the terminal giving the relevant arguments:"
   ]
  },
  {
   "cell_type": "markdown",
   "metadata": {},
   "source": [
    "```\n",
    "python ./notion_py_cli.py --get todos\n",
    "\n",
    "# Output\n",
    "\n",
    "0 - Workflow test task 1\n",
    "1 - Edit the Youtube short / Tiktok\n",
    "2 - Gym weights\n",
    "3 - Learning: math course\n",
    "4 - Notion Todo List Sync\n",
    ".\n",
    ".\n",
    ".\n",
    "```\n",
    "\n"
   ]
  },
  {
   "cell_type": "markdown",
   "metadata": {},
   "source": [
    "![](2023-02-12-17-51-58.png)\n",
    "\n",
    "Now, for checking and unchecking a task:"
   ]
  },
  {
   "cell_type": "markdown",
   "metadata": {},
   "source": [
    "Check:\n",
    "\n",
    "```\n",
    "python ./notion_py_cli.py --check_task 0\n",
    "\n",
    "Output:\n",
    "\n",
    "200\n",
    "Task: Workflow test task 1 ✅\n",
    "```\n",
    "\n",
    "![](2023-02-12-17-53-49.png)"
   ]
  },
  {
   "cell_type": "markdown",
   "metadata": {},
   "source": [
    "Uncheck:\n",
    "\n",
    "```\n",
    "python ./notion_py_cli.py --uncheck_task 0\n",
    "\n",
    "# Output\n",
    "\n",
    "200\n",
    "Task: Workflow test task 1 ✅\n",
    "```\n",
    "![](2023-02-12-17-55-05.png)\n"
   ]
  },
  {
   "cell_type": "markdown",
   "metadata": {},
   "source": [
    "There you have it! We managed to automate simple Notion todo lists with Python!\n",
    "\n",
    "---\n",
    "\n",
    "## Extending the Automation\n",
    "\n",
    "There is a lot that we could do starting from here, we could sync this automation to our github workflows, or even have our local files sync up with Notion through Python, in order to generate automatic reports from code and jupyter notebooks for example. \n",
    "\n",
    "ON upcoming article I will try to address some more interesting automations we could use!\n",
    "\n",
    "\n",
    "If you liked this post, join [Medium](https://lucas-soares.medium.com/membership), subscribe to my [Youtube channel](https://www.youtube.com/channel/UCu8WF59Scx9f3H1N_FgZUwQ) and my [newsletter](https://lucas-soares.medium.com/subscribe). Thanks and see you next time! :)\n",
    "\n"
   ]
  },
  {
   "cell_type": "markdown",
   "metadata": {},
   "source": []
  }
 ],
 "metadata": {
  "hide_input": false,
  "kernelspec": {
   "display_name": "Python 3 (ipykernel)",
   "language": "python",
   "name": "python3"
  },
  "language_info": {
   "codemirror_mode": {
    "name": "ipython",
    "version": 3
   },
   "file_extension": ".py",
   "mimetype": "text/x-python",
   "name": "python",
   "nbconvert_exporter": "python",
   "pygments_lexer": "ipython3",
   "version": "3.10.9"
  },
  "toc": {
   "base_numbering": 1,
   "nav_menu": {},
   "number_sections": true,
   "sideBar": true,
   "skip_h1_title": false,
   "title_cell": "Table of Contents",
   "title_sidebar": "Contents",
   "toc_cell": false,
   "toc_position": {},
   "toc_section_display": true,
   "toc_window_display": false
  },
  "vscode": {
   "interpreter": {
    "hash": "78608a7bf61d8aa645a6a034c16a11b39e84b551b825a1751939703e0f1992c4"
   }
  }
 },
 "nbformat": 4,
 "nbformat_minor": 2
}
