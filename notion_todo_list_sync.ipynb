{
 "cells": [
  {
   "cell_type": "code",
   "execution_count": 1,
   "metadata": {},
   "outputs": [],
   "source": [
    "%load_ext autoreload\n",
    "%autoreload 2"
   ]
  },
  {
   "cell_type": "code",
   "execution_count": 11,
   "metadata": {},
   "outputs": [],
   "source": [
    "import requests, json\n",
    "import os\n",
    "# Custom imports\n",
    "from src.utils import *\n",
    "\n",
    "token = os.environ[\"NOTION_TOKEN\"]\n",
    "databaseId = os.environ[\"NOTION_TASK_DATABASE_ID\"]\n",
    "update_DB_URL = f'https://api.notion.com/v1/databases/{databaseId}'\n",
    "\n",
    "headers = {\n",
    "    \"Authorization\": \"Bearer \" + token,\n",
    "    \"Content-Type\": \"application/json\",\n",
    "    \"Notion-Version\": \"2022-06-28\"}"
   ]
  },
  {
   "cell_type": "code",
   "execution_count": 14,
   "metadata": {},
   "outputs": [
    {
     "name": "stdout",
     "output_type": "stream",
     "text": [
      "200\n"
     ]
    }
   ],
   "source": [
    "db_data = readDatabase(databaseId, headers)"
   ]
  },
  {
   "cell_type": "code",
   "execution_count": 15,
   "metadata": {},
   "outputs": [
    {
     "name": "stdout",
     "output_type": "stream",
     "text": [
      "Gym weights\n",
      "Learning: math course\n",
      "Notion Todo List Sync\n",
      "• Setup automatic tracker for $ (include in periodic review?)\n",
      "• VScode server\n",
      "• Analyze your latest sleep records and make a plan for improving your overall sleep Setup\n",
      "• Transfer to Notion and try setting up API stuff to sync and connect with other apps I use (Anki, terminal, etc…)\n",
      "• Make a list of office stuff to do, and schedule doing a few per week\n",
      "Redo the month budget\n",
      "• Set up pocket or notion automation to help bulk process the pocket links and integrate them into projects (rethink your projects, project tracking)\n",
      "Meal prep\n",
      "• Remove UFC subscription\n"
     ]
    }
   ],
   "source": [
    "from src.utils import get_tasks_from_db\n",
    "\n",
    "get_tasks_from_db(db_data)"
   ]
  },
  {
   "cell_type": "code",
   "execution_count": 23,
   "metadata": {},
   "outputs": [
    {
     "name": "stdout",
     "output_type": "stream",
     "text": [
      "200\n",
      "Task: Notion Todo List Sync ✅\n"
     ]
    }
   ],
   "source": [
    "task_num=2\n",
    "page_data = get_page_in_database(databaseId, headers, task_num)\n",
    "page_id = page_data[\"id\"]\n",
    "check_task(page_data, page_id, headers, check_status=False)"
   ]
  }
 ],
 "metadata": {
  "kernelspec": {
   "display_name": "notion_py_api",
   "language": "python",
   "name": "python3"
  },
  "language_info": {
   "codemirror_mode": {
    "name": "ipython",
    "version": 3
   },
   "file_extension": ".py",
   "mimetype": "text/x-python",
   "name": "python",
   "nbconvert_exporter": "python",
   "pygments_lexer": "ipython3",
   "version": "3.10.9"
  },
  "orig_nbformat": 4,
  "vscode": {
   "interpreter": {
    "hash": "78608a7bf61d8aa645a6a034c16a11b39e84b551b825a1751939703e0f1992c4"
   }
  }
 },
 "nbformat": 4,
 "nbformat_minor": 2
}
