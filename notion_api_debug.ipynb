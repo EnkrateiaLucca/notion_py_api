{
 "cells": [
  {
   "cell_type": "code",
   "execution_count": 4,
   "metadata": {},
   "outputs": [
    {
     "name": "stdout",
     "output_type": "stream",
     "text": [
      "The autoreload extension is already loaded. To reload it, use:\n",
      "  %reload_ext autoreload\n"
     ]
    }
   ],
   "source": [
    "%load_ext autoreload\n",
    "%autoreload 2"
   ]
  },
  {
   "cell_type": "code",
   "execution_count": 5,
   "metadata": {},
   "outputs": [],
   "source": [
    "import requests, json\n",
    "import os\n",
    "# Custom imports\n",
    "from src.utils import *"
   ]
  },
  {
   "attachments": {},
   "cell_type": "markdown",
   "metadata": {},
   "source": [
    "# Setting up the variables"
   ]
  },
  {
   "cell_type": "code",
   "execution_count": 6,
   "metadata": {},
   "outputs": [],
   "source": [
    "token = os.environ[\"NOTION_TOKEN\"]\n",
    "databaseId = os.environ[\"NOTION_TASK_DATABASE_ID\"]\n",
    "update_DB_URL = f'https://api.notion.com/v1/databases/{databaseId}'\n",
    "\n",
    "headers = {\n",
    "    \"Authorization\": \"Bearer \" + token,\n",
    "    \"Content-Type\": \"application/json\",\n",
    "    \"Notion-Version\": \"2022-06-28\"}"
   ]
  },
  {
   "attachments": {},
   "cell_type": "markdown",
   "metadata": {},
   "source": [
    "## Get all the ideas from the Content Board"
   ]
  },
  {
   "cell_type": "code",
   "execution_count": 14,
   "metadata": {},
   "outputs": [
    {
     "name": "stdout",
     "output_type": "stream",
     "text": [
      "200\n"
     ]
    }
   ],
   "source": [
    "db_data = readDatabase(databaseId, headers)"
   ]
  },
  {
   "cell_type": "code",
   "execution_count": null,
   "metadata": {},
   "outputs": [],
   "source": [
    "content_status_tags = [\"Idea\", \"Drafts\", \"Next Improvements\", \"Edit\", \"Publish\"]\n",
    "for tag in content_status_tags:\n",
    "    print(f\"Tag: {tag} - \", get_idea_from_content_board(db_data, content_board_tag=tag))"
   ]
  },
  {
   "attachments": {},
   "cell_type": "markdown",
   "metadata": {},
   "source": [
    "## Updating a Content Status Tag"
   ]
  },
  {
   "cell_type": "code",
   "execution_count": 7,
   "metadata": {},
   "outputs": [
    {
     "name": "stdout",
     "output_type": "stream",
     "text": [
      "200\n",
      "Page ID: 4cd66ea0-122d-4437-a54e-71a0ed85608a\n",
      "Removing meta keys (last edit time, create by, etc...)\n",
      "Removing property specific meta keys (color and id for select)\n",
      "Updating the Status option...\n",
      "{\"object\":\"page\",\"id\":\"4cd66ea0-122d-4437-a54e-71a0ed85608a\",\"created_time\":\"2023-01-31T17:43:00.000Z\",\"last_edited_time\":\"2023-02-03T09:28:00.000Z\",\"created_by\":{\"object\":\"user\",\"id\":\"bf94c211-4404-4995-bed7-62e120c5e1eb\"},\"last_edited_by\":{\"object\":\"user\",\"id\":\"4c0ee156-6405-4cc5-af87-66ce26f3835e\"},\"cover\":null,\"icon\":null,\"parent\":{\"type\":\"database_id\",\"database_id\":\"35f20056-2f34-4d02-bd94-2cbb7e51478a\"},\"archived\":false,\"properties\":{\"Date\":{\"id\":\"WV~R\",\"type\":\"date\",\"date\":null},\"Status\":{\"id\":\"%5C%7Bn~\",\"type\":\"select\",\"select\":{\"id\":\"ec45ef06-f1ea-410b-89c3-fd48b9a0a4f1\",\"name\":\"Drafts\",\"color\":\"pink\"}},\"Name\":{\"id\":\"title\",\"type\":\"title\",\"title\":[{\"type\":\"text\",\"text\":{\"content\":\"Article - 10 Tips for Better ML Dev\",\"link\":null},\"annotations\":{\"bold\":false,\"italic\":false,\"strikethrough\":false,\"underline\":false,\"code\":false,\"color\":\"default\"},\"plain_text\":\"Article - 10 Tips for Better ML Dev\",\"href\":null}]}},\"url\":\"https://www.notion.so/Article-10-Tips-for-Better-ML-Dev-4cd66ea0122d4437a54e71a0ed85608a\"}\n",
      "Content Board updated!\n"
     ]
    }
   ],
   "source": [
    "page_title = \"Article - 10 Tips for Better ML Dev\"\n",
    "property_name = \"Status\"\n",
    "property_type = \"select\"\n",
    "property_dest_name = \"Drafts\"\n",
    "db_data = readDatabase(databaseId, headers)\n",
    "page_content_idx = get_content_title_idx(db_data, page_title)\n",
    "page_data = db_data[\"results\"][page_content_idx]\n",
    "pageId = page_data[\"id\"]\n",
    "update_PAGE_URL = f'https://api.notion.com/v1/pages/{pageId}'\n",
    "print(f\"Page ID: {pageId}\")\n",
    "print(\"Removing meta keys (last edit time, create by, etc...)\")\n",
    "page_data = remove_page_metadata(page_data, keys_to_remove=[\"last_edited_time\",\"created_time\",\"last_edited_by\",\"created_by\"])\n",
    "page_data = remove_property_metadata(page_data, property_name, property_type, keys_to_remove=[\"id\", \"color\"])\n",
    "print(f\"Updating the {property_name} option...\")\n",
    "update_page_property(page_data,pageId, headers, property_name, property_type, property_dest_name)"
   ]
  },
  {
   "attachments": {},
   "cell_type": "markdown",
   "metadata": {},
   "source": [
    "## Reading Metadata on Notion Page"
   ]
  },
  {
   "cell_type": "code",
   "execution_count": 24,
   "metadata": {},
   "outputs": [
    {
     "name": "stdout",
     "output_type": "stream",
     "text": [
      "200\n",
      "Page ID: 88d4370d8f40431dbfa03c938788df80\n",
      "Removing meta keys (last edit time, create by, etc...)\n"
     ]
    },
    {
     "data": {
      "text/plain": [
       "{'object': 'page',\n",
       " 'id': '88d4370d-8f40-431d-bfa0-3c938788df80',\n",
       " 'created_time': '2023-02-03T09:32:00.000Z',\n",
       " 'last_edited_time': '2023-02-03T09:51:00.000Z',\n",
       " 'created_by': {'object': 'user',\n",
       "  'id': 'bf94c211-4404-4995-bed7-62e120c5e1eb'},\n",
       " 'last_edited_by': {'object': 'user',\n",
       "  'id': 'bf94c211-4404-4995-bed7-62e120c5e1eb'},\n",
       " 'cover': None,\n",
       " 'icon': None,\n",
       " 'parent': {'type': 'database_id',\n",
       "  'database_id': '35f20056-2f34-4d02-bd94-2cbb7e51478a'},\n",
       " 'archived': False,\n",
       " 'properties': {'Date': {'id': 'WV~R', 'type': 'date', 'date': None},\n",
       "  'Status': {'id': '%5C%7Bn~',\n",
       "   'type': 'select',\n",
       "   'select': {'id': '44b15cdd-af54-4e09-a58f-15bcba8bc289',\n",
       "    'name': 'Idea',\n",
       "    'color': 'gray'}},\n",
       "  'Name': {'id': 'title',\n",
       "   'type': 'title',\n",
       "   'title': [{'type': 'text',\n",
       "     'text': {'content': 'Python Code', 'link': None},\n",
       "     'annotations': {'bold': False,\n",
       "      'italic': False,\n",
       "      'strikethrough': False,\n",
       "      'underline': False,\n",
       "      'code': False,\n",
       "      'color': 'default'},\n",
       "     'plain_text': 'Python Code',\n",
       "     'href': None}]}},\n",
       " 'url': 'https://www.notion.so/Python-Code-88d4370d8f40431dbfa03c938788df80'}"
      ]
     },
     "execution_count": 24,
     "metadata": {},
     "output_type": "execute_result"
    }
   ],
   "source": [
    "pageId = \"88d4370d8f40431dbfa03c938788df80\"\n",
    "page_title = \"Python Code\"\n",
    "page_data = readPage(pageId, headers)\n",
    "print(f\"Page ID: {pageId}\")\n",
    "print(\"Removing meta keys (last edit time, create by, etc...)\")\n",
    "page_data\n",
    "# page_data = remove_page_metadata(page_data, keys_to_remove=[\"last_edited_time\",\"created_time\",\"last_edited_by\",\"created_by\"])\n",
    "# page_data = remove_property_metadata(page_data, property_name, property_type, keys_to_remove=[\"id\", \"color\"])\n",
    "# print(f\"Updating the {property_name} option...\")\n",
    "# update_page_property(page_data,pageId, headers, property_name, property_type, property_dest_name)"
   ]
  },
  {
   "attachments": {},
   "cell_type": "markdown",
   "metadata": {},
   "source": [
    "## Get Block Content (code)"
   ]
  },
  {
   "cell_type": "code",
   "execution_count": 46,
   "metadata": {},
   "outputs": [
    {
     "name": "stdout",
     "output_type": "stream",
     "text": [
      "200\n"
     ]
    },
    {
     "data": {
      "text/plain": [
       "{'object': 'list',\n",
       " 'results': [{'object': 'block',\n",
       "   'id': 'ae37ddbb-bbb8-42cd-8010-b4bdf2fd47be',\n",
       "   'parent': {'type': 'page_id',\n",
       "    'page_id': '88d4370d-8f40-431d-bfa0-3c938788df80'},\n",
       "   'created_time': '2023-02-03T09:50:00.000Z',\n",
       "   'last_edited_time': '2023-02-03T09:51:00.000Z',\n",
       "   'created_by': {'object': 'user',\n",
       "    'id': 'bf94c211-4404-4995-bed7-62e120c5e1eb'},\n",
       "   'last_edited_by': {'object': 'user',\n",
       "    'id': 'bf94c211-4404-4995-bed7-62e120c5e1eb'},\n",
       "   'has_children': False,\n",
       "   'archived': False,\n",
       "   'type': 'code',\n",
       "   'code': {'caption': [],\n",
       "    'rich_text': [{'type': 'text',\n",
       "      'text': {'content': '# This is some cool Python code\\n\\ndef cool_python_code(cool):\\n    print(cool)',\n",
       "       'link': None},\n",
       "      'annotations': {'bold': False,\n",
       "       'italic': False,\n",
       "       'strikethrough': False,\n",
       "       'underline': False,\n",
       "       'code': False,\n",
       "       'color': 'default'},\n",
       "      'plain_text': '# This is some cool Python code\\n\\ndef cool_python_code(cool):\\n    print(cool)',\n",
       "      'href': None}],\n",
       "    'language': 'python'}}],\n",
       " 'next_cursor': None,\n",
       " 'has_more': False,\n",
       " 'type': 'block',\n",
       " 'block': {}}"
      ]
     },
     "execution_count": 46,
     "metadata": {},
     "output_type": "execute_result"
    }
   ],
   "source": [
    "def readBlock(pageId, headers):\n",
    "    readUrl = f\"https://api.notion.com/v1/blocks/{pageId}/children\"\n",
    "\n",
    "    res = requests.request(\"GET\", readUrl, headers=headers)\n",
    "    data = res.json()\n",
    "    print(res.status_code) \n",
    "    \n",
    "    return data\n",
    "\n",
    "\n",
    "#pageId = \"88d4370d8f40431dbfa03c938788df80\"\n",
    "blockId = \"88d4370d8f40431dbfa03c938788df80#ae37ddbbbbb842cd8010b4bdf2fd47be\"\n",
    "page_title = \"Python Code\"\n",
    "block_data = readBlock(pageId, headers)\n",
    "block_data"
   ]
  },
  {
   "cell_type": "code",
   "execution_count": 48,
   "metadata": {},
   "outputs": [
    {
     "data": {
      "text/plain": [
       "dict_keys(['object', 'results', 'next_cursor', 'has_more', 'type', 'block'])"
      ]
     },
     "execution_count": 48,
     "metadata": {},
     "output_type": "execute_result"
    }
   ],
   "source": [
    "block_data.keys()"
   ]
  },
  {
   "cell_type": "code",
   "execution_count": 57,
   "metadata": {},
   "outputs": [
    {
     "data": {
      "text/plain": [
       "'# This is some cool Python code\\n\\ndef cool_python_code(cool):\\n    print(cool)'"
      ]
     },
     "execution_count": 57,
     "metadata": {},
     "output_type": "execute_result"
    }
   ],
   "source": [
    "block_data[\"results\"][0][\"code\"][\"rich_text\"][0][\"plain_text\"]"
   ]
  },
  {
   "cell_type": "markdown",
   "metadata": {},
   "source": [
    "## Add Block Content"
   ]
  },
  {
   "cell_type": "code",
   "execution_count": 7,
   "metadata": {},
   "outputs": [
    {
     "name": "stdout",
     "output_type": "stream",
     "text": [
      "200\n"
     ]
    },
    {
     "data": {
      "text/plain": [
       "dict_keys(['object', 'id', 'created_time', 'last_edited_time', 'created_by', 'last_edited_by', 'cover', 'icon', 'parent', 'archived', 'properties', 'url'])"
      ]
     },
     "execution_count": 7,
     "metadata": {},
     "output_type": "execute_result"
    }
   ],
   "source": [
    "pageId = \"88d4370d8f40431dbfa03c938788df80\"\n",
    "page_title = \"Python Code\"\n",
    "page_data = readPage(pageId, headers)\n",
    "page_data.keys()"
   ]
  },
  {
   "cell_type": "code",
   "execution_count": 8,
   "metadata": {},
   "outputs": [],
   "source": [
    "# curl -X PATCH https://api.notion.com/v1/blocks/16d8004e-5f6a-42a6-9811-51c22ddada12/children \\\n",
    "#   -H 'Authorization: Bearer '\"$NOTION_API_KEY\"'' \\\n",
    "#   -H \"Content-Type: application/json\" \\\n",
    "#   -H \"Notion-Version: 2022-06-28\" \\\n",
    "#   --data '{\n",
    "#     \"children\": [\n",
    "#     {\n",
    "#       \"object\": \"block\",\n",
    "#       \"type\": \"paragraph\",\n",
    "#       \"paragraph\": {\n",
    "#         \"text\": [{ \"type\": \"text\", \"text\": { \"content\": \"– Notion API Team\", \"link\": { \"type\": \"url\", \"url\": \"https://twitter.com/NotionAPI\" } } }]\n",
    "#       }\n",
    "#     }\n",
    "#   ]\n",
    "# }'    \n",
    "\n",
    "def add_content_to_page(block_content, headers):\n",
    "      blockURL = f\"https://api.notion.com/v1/blocks/{pageId}/children\"\n",
    "      res = requests.request(\"PATCH\", blockURL, headers=headers, data=json.dumps(block_content))\n",
    "      print(res.status_code)\n",
    "      print(res.text)\n",
    "      "
   ]
  },
  {
   "cell_type": "code",
   "execution_count": 9,
   "metadata": {},
   "outputs": [
    {
     "name": "stdout",
     "output_type": "stream",
     "text": [
      "200\n",
      "{\"object\":\"list\",\"results\":[{\"object\":\"block\",\"id\":\"4b7809ba-8666-48bb-861b-753c09621ea0\",\"parent\":{\"type\":\"page_id\",\"page_id\":\"88d4370d-8f40-431d-bfa0-3c938788df80\"},\"created_time\":\"2023-02-03T10:41:00.000Z\",\"last_edited_time\":\"2023-02-03T10:41:00.000Z\",\"created_by\":{\"object\":\"user\",\"id\":\"4c0ee156-6405-4cc5-af87-66ce26f3835e\"},\"last_edited_by\":{\"object\":\"user\",\"id\":\"4c0ee156-6405-4cc5-af87-66ce26f3835e\"},\"has_children\":false,\"archived\":false,\"type\":\"code\",\"code\":{\"caption\":[],\"rich_text\":[{\"type\":\"text\",\"text\":{\"content\":\"def henrique_tontao():\\n    print('cool')\",\"link\":null},\"annotations\":{\"bold\":false,\"italic\":false,\"strikethrough\":false,\"underline\":false,\"code\":false,\"color\":\"default\"},\"plain_text\":\"def henrique_tontao():\\n    print('cool')\",\"href\":null}],\"language\":\"python\"}}],\"next_cursor\":null,\"has_more\":false,\"type\":\"block\",\"block\":{}}\n"
     ]
    }
   ],
   "source": [
    "block_content = {\n",
    "  \"children\": [\n",
    "    {\"type\": \"code\",\n",
    "      \"code\": {\"language\": \"python\",\"rich_text\": \n",
    "        [{\"plain_text\": \"\", \"text\": {\"content\": \"def henrique_tontao():\\n    print('cool')\"}}]\n",
    "    }\n",
    "      }\n",
    "  ]\n",
    "}\n",
    "add_content_to_page(block_content, headers)"
   ]
  },
  {
   "attachments": {},
   "cell_type": "markdown",
   "metadata": {},
   "source": []
  }
 ],
 "metadata": {
  "kernelspec": {
   "display_name": "notion_py_api",
   "language": "python",
   "name": "python3"
  },
  "language_info": {
   "codemirror_mode": {
    "name": "ipython",
    "version": 3
   },
   "file_extension": ".py",
   "mimetype": "text/x-python",
   "name": "python",
   "nbconvert_exporter": "python",
   "pygments_lexer": "ipython3",
   "version": "3.10.9"
  },
  "vscode": {
   "interpreter": {
    "hash": "78608a7bf61d8aa645a6a034c16a11b39e84b551b825a1751939703e0f1992c4"
   }
  }
 },
 "nbformat": 4,
 "nbformat_minor": 2
}
