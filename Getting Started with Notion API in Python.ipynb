{
 "cells": [
  {
   "cell_type": "code",
   "execution_count": 1,
   "metadata": {},
   "outputs": [],
   "source": [
    "import requests, json\n",
    "token = 'secret_kRjcHJDgYxNTPlnl323mI4k6a7tMckr7tPWDPj10LOT'\n",
    "databaseId = '35f200562f344d02bd942cbb7e51478a'\n",
    "pageId = ''\n",
    "update_DB_URL = f'https://api.notion.com/v1/databases/{databaseId}'\n",
    "\n",
    "headers = {\n",
    "    \"Authorization\": \"Bearer \" + token,\n",
    "    \"Content-Type\": \"application/json\",\n",
    "    \"Notion-Version\": \"2022-06-28\"}"
   ]
  },
  {
   "cell_type": "markdown",
   "metadata": {},
   "source": [
    "# Helper Functions"
   ]
  },
  {
   "cell_type": "code",
   "execution_count": 4,
   "metadata": {},
   "outputs": [],
   "source": [
    "def readPage(pageId=\"88d4370d8f40431dbfa03c938788df80\", headers):\n",
    "    readUrl = f\"https://api.notion.com/v1/pages/{pageId}/query\"\n",
    "\n",
    "    res = requests.request(\"POST\", readUrl, headers=headers)\n",
    "    data = res.json()\n",
    "    print(res.status_code) \n",
    "    \n",
    "    return data\n",
    "\n",
    "def readDatabase(databaseId, headers):\n",
    "    readUrl = f\"https://api.notion.com/v1/databases/{databaseId}/query\"\n",
    "\n",
    "    res = requests.request(\"POST\", readUrl, headers=headers)\n",
    "    data = res.json()\n",
    "    print(res.status_code)\n",
    "    # print(res.text)\n",
    "\n",
    "    with open('./db.json', 'w', encoding='utf8') as f:\n",
    "        json.dump(data, f, ensure_ascii=False)\n",
    "    \n",
    "    return data\n",
    "\n",
    "\n",
    "def get_idea_from_content_board(db_data, content_board_tag = \"Idea\"):\n",
    "    content_list = []\n",
    "    for i in range(len(db_data[\"results\"])):\n",
    "        try:\n",
    "            if db_data[\"results\"][i][\"properties\"][\"Status\"][\"select\"][\"name\"] == content_board_tag:\n",
    "                content_list.append(db_data[\"results\"][i][\"properties\"][\"Name\"][\"title\"][0][\"plain_text\"])\n",
    "        except:\n",
    "            continue\n",
    "    \n",
    "    return content_list\n",
    "\n",
    "\n",
    "def get_content_title_idx(content_title):\n",
    "    length_db = len(db_data[\"results\"])\n",
    "    for i in range(length_db):\n",
    "        if db_data[\"results\"][i][\"properties\"][\"Name\"][\"title\"][0][\"plain_text\"]==content_title:\n",
    "            content_idx = i\n",
    "            break\n",
    "    \n",
    "    return content_idx\n",
    "\n",
    "\n",
    "def get_page_in_database(databaseId, headers, page_content_idx):\n",
    "    db_data = readDatabase(databaseId, headers)\n",
    "    return db_data[\"results\"][page_content_idx]\n",
    "\n",
    "def remove_page_metadata(page_data, keys_to_remove):\n",
    "    for key in keys_to_remove:\n",
    "        page_data.pop(key)\n",
    "    \n",
    "    return page_data\n",
    "\n",
    "def remove_property_metadata(page_data, property_name, property_type,\n",
    "                             keys_to_remove):\n",
    "    \"\"\"\n",
    "    Removes unwated property metadata to be able to update\n",
    "    a page.\n",
    "    \"\"\"\n",
    "    print(\"Removing property specific meta keys (color and id for select)\")\n",
    "    for key in keys_to_remove:\n",
    "        page_data[\"properties\"][property_name][property_type].pop(key)\n",
    "    \n",
    "    return page_data\n",
    "\n",
    "def change_page_property_option(page_data,pageId,headers,property_name, property_type, property_dest_name):\n",
    "    page_data[\"properties\"][property_name][property_type][\"name\"]=property_dest_name\n",
    "    return page_data\n",
    "    \n",
    "        \n",
    "def update_page_property(page_data,pageId,headers,property_name, property_type, property_dest_name):\n",
    "    updateURL = f'https://api.notion.com/v1/pages/{pageId}'\n",
    "    page_data = change_page_property_option(page_data,pageId,headers,property_name, property_type, property_dest_name)\n",
    "    updated_page = json.dumps(page_data)\n",
    "    res = requests.request(\"PATCH\", updateURL, headers=headers, data=updated_page)\n",
    "    print(res.text)\n",
    "    print(\"Content Board updated!\")\n",
    "\n",
    "\n",
    "# def createPage(databaseId, headers):\n",
    "\n",
    "#     createUrl = 'https://api.notion.com/v1/pages'\n",
    "    \n",
    "#     newPageData = {}\n",
    "\n",
    "#     data = json.dumps(newPageData)\n",
    "#     # print(str(uploadData))\n",
    "\n",
    "#     res = requests.request(\"POST\", createUrl, headers=headers, data=data)\n",
    "\n",
    "#     print(res.status_code)\n",
    "#     print(res.text)"
   ]
  },
  {
   "cell_type": "markdown",
   "metadata": {},
   "source": [
    "__Get all the ideas from the Content Board__"
   ]
  },
  {
   "cell_type": "code",
   "execution_count": 6,
   "metadata": {},
   "outputs": [
    {
     "name": "stdout",
     "output_type": "stream",
     "text": [
      "200\n",
      "Tag: Idea -  ['Automating Notion With Python', 'Automating Content Management with Python and the Notion API', 'Article - 10 Tips for Better ML Dev', 'Pose Tracking']\n",
      "Tag: Drafts -  []\n",
      "Tag: Next Improvements -  ['Use this structure for the next code/jupyter notebooks explanation video', 'Audio quality (mic position, volume when editing, etc.)', 'Floating link window inside video', 'Shot/lights improvement', 'Background improvement ']\n",
      "Tag: Edit -  []\n",
      "Tag: Publish -  []\n"
     ]
    }
   ],
   "source": [
    "db_data = readDatabase(databaseId, headers)\n",
    "content_status_tags = [\"Idea\", \"Drafts\", \"Next Improvements\", \"Edit\", \"Publish\"]\n",
    "for tag in content_status_tags:\n",
    "    print(f\"Tag: {tag} - \", get_idea_from_content_board(db_data, content_board_tag=tag))"
   ]
  },
  {
   "cell_type": "code",
   "execution_count": 8,
   "metadata": {},
   "outputs": [
    {
     "name": "stdout",
     "output_type": "stream",
     "text": [
      "Page ID: acb4a4d5-b53c-4622-99ef-6f1663247ff5\n",
      "Removing meta keys (last edit time, create by, etc...)\n",
      "Removing property specific meta keys (color and id for select)\n",
      "Updating the Status option...\n",
      "{\"object\":\"page\",\"id\":\"acb4a4d5-b53c-4622-99ef-6f1663247ff5\",\"created_time\":\"2023-02-02T17:32:00.000Z\",\"last_edited_time\":\"2023-02-02T17:37:00.000Z\",\"created_by\":{\"object\":\"user\",\"id\":\"bf94c211-4404-4995-bed7-62e120c5e1eb\"},\"last_edited_by\":{\"object\":\"user\",\"id\":\"4c0ee156-6405-4cc5-af87-66ce26f3835e\"},\"cover\":null,\"icon\":null,\"parent\":{\"type\":\"database_id\",\"database_id\":\"35f20056-2f34-4d02-bd94-2cbb7e51478a\"},\"archived\":false,\"properties\":{\"Date\":{\"id\":\"WV~R\",\"type\":\"date\",\"date\":null},\"Status\":{\"id\":\"%5C%7Bn~\",\"type\":\"select\",\"select\":{\"id\":\"ec45ef06-f1ea-410b-89c3-fd48b9a0a4f1\",\"name\":\"Drafts\",\"color\":\"pink\"}},\"Name\":{\"id\":\"title\",\"type\":\"title\",\"title\":[{\"type\":\"text\",\"text\":{\"content\":\"Automating Notion With Python\",\"link\":null},\"annotations\":{\"bold\":false,\"italic\":false,\"strikethrough\":false,\"underline\":false,\"code\":false,\"color\":\"default\"},\"plain_text\":\"Automating Notion With Python\",\"href\":null}]}},\"url\":\"https://www.notion.so/Automating-Notion-With-Python-acb4a4d5b53c462299ef6f1663247ff5\"}\n",
      "Content Board updated!\n"
     ]
    }
   ],
   "source": [
    "page_title = \"Automating Notion With Python\"\n",
    "property_name = \"Status\"\n",
    "property_type = \"select\"\n",
    "property_dest_name = \"Drafts\"\n",
    "page_content_idx = get_content_title_idx(page_title)\n",
    "page_data = db_data[\"results\"][page_content_idx]\n",
    "page_data[\"properties\"][\"Status\"][\"select\"][\"name\"]\n",
    "pageId = page_data[\"id\"]\n",
    "update_PAGE_URL = f'https://api.notion.com/v1/pages/{pageId}'\n",
    "print(f\"Page ID: {pageId}\")\n",
    "print(\"Removing meta keys (last edit time, create by, etc...)\")\n",
    "page_data = remove_page_metadata(page_data, keys_to_remove=[\"last_edited_time\",\"created_time\",\"last_edited_by\",\"created_by\"])\n",
    "page_data = remove_property_metadata(page_data, property_name, property_type, keys_to_remove=[\"id\", \"color\"])\n",
    "print(f\"Updating the {property_name} option...\")\n",
    "update_page_property(page_data,pageId,headers,property_name, property_type, property_dest_name)"
   ]
  },
  {
   "cell_type": "code",
   "execution_count": 47,
   "metadata": {},
   "outputs": [
    {
     "data": {
      "text/plain": [
       "['Automating Content Management with Python and the Notion API',\n",
       " 'Pose Tracking']"
      ]
     },
     "execution_count": 47,
     "metadata": {},
     "output_type": "execute_result"
    }
   ],
   "source": [
    "get_idea_from_content_board(content_board_tag=\"Idea\")"
   ]
  },
  {
   "cell_type": "code",
   "execution_count": 111,
   "metadata": {},
   "outputs": [
    {
     "data": {
      "text/plain": [
       "7"
      ]
     },
     "execution_count": 111,
     "metadata": {},
     "output_type": "execute_result"
    }
   ],
   "source": [
    "page_content_idx = get_content_title_idx(\"Pose Tracking\")\n",
    "page_content_idx"
   ]
  },
  {
   "cell_type": "code",
   "execution_count": 116,
   "metadata": {},
   "outputs": [
    {
     "name": "stdout",
     "output_type": "stream",
     "text": [
      "{\"object\":\"error\",\"status\":400,\"code\":\"validation_error\",\"message\":\"body failed validation: body.parent should be defined, instead was `undefined`.\"}\n",
      "Content Board updated!\n"
     ]
    }
   ],
   "source": [
    "update_content_status(databaseId, headers, db_data, destination_status=\"Drafts\", page_title=\"Pose Tracking\", page_content_idx=page_content_idx)"
   ]
  },
  {
   "cell_type": "code",
   "execution_count": null,
   "metadata": {},
   "outputs": [],
   "source": []
  }
 ],
 "metadata": {
  "kernelspec": {
   "display_name": "Python 3",
   "language": "python",
   "name": "python3"
  },
  "language_info": {
   "codemirror_mode": {
    "name": "ipython",
    "version": 3
   },
   "file_extension": ".py",
   "mimetype": "text/x-python",
   "name": "python",
   "nbconvert_exporter": "python",
   "pygments_lexer": "ipython3",
   "version": "3.6.6+"
  }
 },
 "nbformat": 4,
 "nbformat_minor": 2
}
